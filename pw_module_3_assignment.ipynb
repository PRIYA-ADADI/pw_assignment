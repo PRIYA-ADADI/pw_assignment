{
  "nbformat": 4,
  "nbformat_minor": 0,
  "metadata": {
    "colab": {
      "provenance": []
    },
    "kernelspec": {
      "name": "python3",
      "display_name": "Python 3"
    },
    "language_info": {
      "name": "python"
    }
  },
  "cells": [
    {
      "cell_type": "markdown",
      "source": [],
      "metadata": {
        "id": "BdO5-__VZ9hu"
      }
    },
    {
      "cell_type": "markdown",
      "source": [
        "#Python Basics Assignment"
      ],
      "metadata": {
        "id": "158YXcUpaB72"
      }
    },
    {
      "cell_type": "markdown",
      "source": [
        "# 1.  What is Python, and why is it popular\n",
        "   - Python is a high level, interpreted language created by Guido Van Rossum and released in 1991\n",
        "   - Python has gained immense popularity for several reasons:\n",
        "   --  **Easy to Learn and Use**: Python has a straightforward syntax that makes it beginner-friendly and easy to pick up.\n",
        "    -**Extensive Libraries**: Python offers a wide range of libraries that automate and simplify many tasks such as **Data Manipulation** ( with Pandas and NumPy ), **Data Visualizatio** ( with Seaborn, Matplotlib, Plotly ), **Machine Learning** ( with Scikit-learn, PyTorch, TensorFlow ), **Big Data Processing**( with PySpark, Dask ), **Computer Vision**( with spaCy ),\n",
        "    **Natural Language Processing (NLP)** ( with NLTK, Hugging Face )- -\n",
        "  -  **Scalability and Versatility:** Python can be used in various applications. hence very flexible and scalable.\n",
        "  - **Strong Community:** There is a large community of python dovelopers across the globe.A large and active community provides extensive resources, tutorials, and support, making it easier to find help and collaborate.\n",
        "  - **Open Source:** Python is free to use which encourages contribution from large community of developers.\n",
        "  - **Integration Capabilities:** Python can easily integrate with other languages and technologies, allowing for seamless functionality across different systems.\n",
        "  - **Various Development Platforms:** There are several popular platforms for Python development, including PyCharm, VS Code, Jupyter Notebook, Google Colab.\n",
        "  - **.ipynb Files:** Jupyter Notebook uses .ipynb files, which are modular. This means a program can be executed in small sections, making it easy to debug and test code incrementally.\n",
        "\n",
        "hence these are the 9 main reasons why python became so popular.\n",
        "\n",
        "\n",
        "# 2. What is an interpreter in Python?\n",
        "\n",
        "- An **interpreter** in Python is a program that executes Python code directly\n",
        "- It reads and runs the code line-by-line, allowing for immediate execution and testing.\n",
        "-  we dont have to create a separate file before running the code. It also checks for errors as the code runs. This makes it easier to develop and debug Python programs.\n",
        "\n",
        "#3. What are pre-defined keywords in Python?\n",
        "\n",
        "- Pre-defined keywords in Python are reserved words that have special meanings and purposes.\n",
        "- They cannot be used as identifiers (like variable names, function names, etc.).\n",
        "- There are 35 keywords in python. Here’s a list of them:\n",
        "- False, None, True, and, as, assert, async, await, break, class, continue, def, del, elif, else, except, finally, for, from, global, if, import, in, is, lambda, nonlocal, not, or, pass, raise, return, try, while, with, yield\n",
        "\n",
        "#4. Can keywords be used as variable names?\n",
        "\n",
        "- No, keywords cannot be used as variable names.\n",
        "- Keywords are reserved words that have specific meanings\n",
        "-  using keywords as variable names would lead to syntax errors or unpredictable behavior in our code.\n",
        "- For example, trying to use if, while, or def as a variable name would result in an error like this:\n",
        "-- if = 10  # This will raise a SyntaxError\n",
        "\n",
        "#5. What is mutability in Python?\n",
        "\n",
        "- In Python, mutability refers to the ability of an object to be changed after it has been created.\n",
        "- Objects in Python can be classified into two categories (mutable, immutable) based on their mutability\n",
        "- mutable objects include lists, dictionaries, sets\n",
        "- immutable objects include tuples.\n",
        "\n",
        "#6. Why are lists mutable, but tuples are immutable?\n",
        "-  Lists are mutable because they are designed for flexibility.\n",
        "- it Allows the user to modify their contents after creation by adding, removing, or changing elements.\n",
        "- This feature is particularly useful when working with dynamic data that needs frequent updates, such as maintaining a list of tasks.\n",
        "- In contrast, tuples are immutable, meaning once they are created, their contents cannot be altered.\n",
        "- This immutability safeguards data from accidental changes, making tuples ideal for representing fixed collections of items, such as coordinates or constants, that should remain unchanged.\n",
        "- Overall, the design of lists and tuples serves different purposes: lists facilitate easy modifications, while tuples ensure data integrity and stability.\n",
        "\n",
        "#7. What is the difference between “==” and “is” operators in Python?\n",
        "- The '==' operator in Python checks for equality of values.\n",
        "- It evaluates whether the contents of two objects are the same.\n",
        "- while the 'is' operator checks for identity, determining if two variables point to the exact same object in memory.\n",
        "- For instance, two separate lists with identical elements will return 'True' when compared with '==', but will return 'False' with 'is' since they are distinct objects.\n",
        "-In short, we use '==' for value comparisons with any data type, and 'is' to confirm object identity in memory.\n",
        "here is an example.\n"
      ],
      "metadata": {
        "id": "DM6zIdlgaL2w"
      }
    },
    {
      "cell_type": "code",
      "source": [
        "   list1 = [1, 2, 3]  # First list\n",
        "   list2 = [1, 2, 3]  # Second list with the same elements\n",
        "print(list1 == list2)  # Output: True (same values)\n",
        "print(list1 is list2)  # Output: False (different objects)"
      ],
      "metadata": {
        "colab": {
          "base_uri": "https://localhost:8080/"
        },
        "id": "TNpXQ_n8KO_l",
        "outputId": "7509ccee-a7e3-4ffd-d7ae-44efb82e70e6"
      },
      "execution_count": 1,
      "outputs": [
        {
          "output_type": "stream",
          "name": "stdout",
          "text": [
            "True\n",
            "False\n"
          ]
        }
      ]
    },
    {
      "cell_type": "markdown",
      "source": [
        "#8.  What are logical operators in Python?\n",
        "- Logical operators in Python are used to combine conditional statements and return Boolean values (`True` or `False`).\n",
        "- The three main logical operators are:\n",
        "- **`and`**: This operator returns `True` if both operands are true. For example, `A and B` is true only when both `A` and `B` are true.\n",
        "- **`or`**: This operator returns `True` if at least one of the operands is true. For example, `A or B` is true if either `A` or `B` (or both) are true.\n",
        "- **`not`**: This operator negates the Boolean value of its operand, returning `True` if the operand is false and `False` if the operand is true. For example, `not A` is true if `A` is false.\n"
      ],
      "metadata": {
        "id": "reWlSjqTKTiv"
      }
    },
    {
      "cell_type": "code",
      "source": [
        "#example program to show how logical operators work\n",
        "a = True\n",
        "b = False\n",
        "\n",
        "# Using 'and'\n",
        "print(a and b)  # Output: False (both need to be True)\n",
        "\n",
        "# Using 'or'\n",
        "print(a or b)   # Output: True (at least one is True)\n",
        "\n",
        "# Using 'not'\n",
        "print(not a)    # Output: False (negating True)\n",
        "print(not b)    # Output: True (negating False)"
      ],
      "metadata": {
        "colab": {
          "base_uri": "https://localhost:8080/"
        },
        "id": "-K-Cp4lIK5KS",
        "outputId": "a4f5ac76-c614-435c-f6d8-5f0d0e0cd61c"
      },
      "execution_count": 2,
      "outputs": [
        {
          "output_type": "stream",
          "name": "stdout",
          "text": [
            "False\n",
            "True\n",
            "False\n",
            "True\n"
          ]
        }
      ]
    },
    {
      "cell_type": "markdown",
      "source": [
        "#9. What is type casting in Python?\n",
        "- Type casting in Python refers to the conversion of one data type into another.\n",
        "- This process allows programmers to manipulate different types of data when necessary.\n",
        "- Python provides built-in functions for type casting, including:\n",
        "\n",
        "- **int()**: Converts a specified value into an integer, e.g:  int(\"10\") converts the string \"10\" to the integer 10.\n",
        "\n",
        "- **float()**: Converts a specified value into a floating-point number, e.g., float(10) converts the int 10 to the float 10.5.\n",
        "\n",
        "- **str()**: Converts a specified value into a string, e.g: str(123) converts the integer 123 to the string \"123\".\n",
        "\n",
        "- **list()**: Converts an iterable (like a string or tuple) into a list, e.g: list(\"hello\") converts the string \"hello\" into the list ['h', 'e', 'l', 'l', 'o'\n",
        "]\n",
        "- **tuple* Converts an iterable into a tuple.e.g: tuple([1, 2, 3]) converts the list [1, 2, 3] into the tuple (1, 2, 3).\n",
        "\n",
        "\n",
        "\n",
        "#10. What is the difference between implicit and explicit type casting?\n",
        "- **Implici**t type casting, also known as automatic type conversion.\n",
        "- occurs when Python automatically converts a smaller data type to a larger type without any user intervention.\n",
        "- This process helps prevent data loss during operations involving different types.\n",
        "- For example, when performing calculations between an integer and a float, Python automatically converts the integer to a float.\n",
        "\n",
        "- **Explicit** type casting, on the other hand, requires the programmer to manually convert one data type to another using built-in functions like int(), float(), or str().\n",
        "- This is typically done when a specific type conversion is needed, and the programmer wants to control the conversion process to avoid errors or achieve desired outcomes.\n",
        "\n",
        "#11.  What is the purpose of conditional statements in Python?\n",
        "- Conditional statements in Python are used to make decisions in a program.\n",
        "- They allow the program to take different actions based on certain conditions\n",
        "- The main purposes of conditional statements are:\n",
        "\n",
        "- **Making Decisions**: They let the program perform different actions depending on the situation. For example, if a user is old enough, the program can allow access; if not, it can deny access.\n",
        "\n",
        "- **Controlling Flow**: Conditional statements guide the program on which path to take. This means only certain parts of the code will run based on the conditions.\n",
        "\n",
        "- **Handling Errors**: They can check for mistakes or special situations, helping the program respond calmly instead of crashing.\n",
        "\n",
        "- **Creating Dynamic Behavior**: These statements allow the program to react differently based on user input or other changes, making it more interactive.\n",
        "\n",
        "- **Improving Clarity**: They make the code easier to read and understand by showing the conditions under which certain actions will happen.\n",
        "\n",
        "#12. How does the elif statement work?\n",
        "\n",
        "- The elif statement in Python is used in conditional statements to check for multiple conditions. Here's how it works:\n",
        "\n",
        "- **Sequential Checking**: The elif statement allows you to add additional conditions after an initial if statement. When the program evaluates the conditions, it first checks the if condition. If that condition is false, it moves on to the next elif condition.\n",
        "\n",
        "- **Multiple Conditions**: You can have several elif statements to test different conditions. Each elif acts as a new condition to evaluate if the previous one was false.\n",
        "\n",
        "- **Final Option**: An else statement can be included at the end of the if-elif structure. This block runs only when all previous conditions are false.\n",
        "\n",
        "- here are some example scenarioes.\n",
        "--  **Grading System**: A program that assesses a student's grade based on their score:\n",
        "   - If the score is 90 or above, the student receives an \"A\".\n",
        "   - elif the score is 80 to 89, the student receives a \"B\".\n",
        "   - elif the score is 70 to 79, the student receives a \"C\".\n",
        "   - elif the score is 60 to 69, the student receives a \"D\".\n",
        "   - else, the student receives an \"F\".\n",
        "-- **Traffic Light System**: A traffic control system that changes signals based on the traffic situation:\n",
        "   - If there is heavy traffic, the light stays red for longer.\n",
        "   - elif traffic is moderate, the light remains yellow for a few seconds.\n",
        "   - Ielse, the light turns green quickly.\n",
        "\n",
        "#13.  What is the difference between for and while loops?\n",
        "- Primary difference:\n",
        "   - **For Loop** is used to repeat a block of code for each item in a list or a range of numbers. The number of repetitions is known.\n",
        "   - **While Loop** is used to repeat a block of code as long as a specified condition is true. The number of repetitions can vary and isn't always known.\n",
        "\n",
        "- Usage:\n",
        "   - **For Loop** is best when you know how many times you want to loop, like going through all items in a list.\n",
        "   - **While Loop** is best when you want to keep looping until a certain condition changes, like waiting for user input.\n",
        "\n",
        "- Syntax:\n",
        "   - **For Loop** tends to be shorter and simpler since it handles the count automatically.\n",
        "   - **While Loop** may require more lines because you need to specify the condition and update it yourself.\n",
        "\n",
        "- Ending the Loop:\n",
        "   - **For Loop** automatically stops when it finishes the list or range.\n",
        "   - **While Loop** must ensure the condition will eventually become false to avoid running forever.\n",
        "\n",
        "#14. Describe a scenario where a while loop is more suitable than a for loop.\n",
        "- A scenario where a while loop is more suitable than a `for` loop is when creating a login system that prompts the user for their password until they enter the correct one.\n",
        "\n",
        "In this case:\n",
        "\n",
        "- The number of attempts is not predetermined; the user could take multiple tries or may even succeed on the first attempt.\n",
        "- The loop continues running until the condition (the correct password being entered) is met, making a while loop ideal because it can easily accommodate varying lengths of user input.\n",
        "\n",
        "For example, the loop can keep prompting the user with a message like \"Enter your password:\" and only exit when the user types the correct password. This dynamic nature is more naturally suited to a while loop rather than a for loop, which requires a fixed number of iterations.\n",
        "\n",
        "\n"
      ],
      "metadata": {
        "id": "mw5kyRspLF_F"
      }
    },
    {
      "cell_type": "markdown",
      "source": [],
      "metadata": {
        "id": "PUbDw0UXsvx3"
      }
    },
    {
      "cell_type": "code",
      "source": [
        "#1.  Write a Python program to print \"Hello, World!\"\n",
        "print(\"Hello, World!\")"
      ],
      "metadata": {
        "colab": {
          "base_uri": "https://localhost:8080/"
        },
        "id": "5bniHgqxUPQU",
        "outputId": "f91c908b-2e9f-4425-f902-fca86c51d81a"
      },
      "execution_count": 3,
      "outputs": [
        {
          "output_type": "stream",
          "name": "stdout",
          "text": [
            "Hello, World!\n"
          ]
        }
      ]
    },
    {
      "cell_type": "code",
      "source": [
        "#2.  Write a Python program that displays your name and age\n",
        "name = input(\"Enter your name: \")\n",
        "age = int(input(\"Enter your age: \"))\n",
        "print(\"name: \",name,\"\\n\",\"age: \",age)"
      ],
      "metadata": {
        "colab": {
          "base_uri": "https://localhost:8080/"
        },
        "id": "dlDzYBtIUdNl",
        "outputId": "10290d82-82ed-40f9-a697-1f66f0601513"
      },
      "execution_count": 7,
      "outputs": [
        {
          "output_type": "stream",
          "name": "stdout",
          "text": [
            "Enter your name: priya\n",
            "Enter your age: 20\n",
            "name:  priya \n",
            " age:  20\n"
          ]
        }
      ]
    },
    {
      "cell_type": "code",
      "source": [
        " #3. Write code to print all the pre-defined keywords in Python using the keyword library\n",
        "import keyword\n",
        "help('keywords')"
      ],
      "metadata": {
        "colab": {
          "base_uri": "https://localhost:8080/"
        },
        "id": "JHVmoyJnVKzE",
        "outputId": "df5fc342-ff2e-4241-fc59-b702fb680b57"
      },
      "execution_count": 10,
      "outputs": [
        {
          "output_type": "stream",
          "name": "stdout",
          "text": [
            "\n",
            "Here is a list of the Python keywords.  Enter any keyword to get more help.\n",
            "\n",
            "False               class               from                or\n",
            "None                continue            global              pass\n",
            "True                def                 if                  raise\n",
            "and                 del                 import              return\n",
            "as                  elif                in                  try\n",
            "assert              else                is                  while\n",
            "async               except              lambda              with\n",
            "await               finally             nonlocal            yield\n",
            "break               for                 not                 \n",
            "\n"
          ]
        }
      ]
    },
    {
      "cell_type": "code",
      "source": [
        "#4.  Write a program that checks if a given word is a Python keyword.\n",
        "a=input(\"enter a word: \")\n",
        "if keyword.iskeyword(a):\n",
        "  print(a,\"is a keyword\")\n",
        "else:\n",
        "  print(a,\"is not a keyword\")"
      ],
      "metadata": {
        "colab": {
          "base_uri": "https://localhost:8080/"
        },
        "id": "8_2fi47-V0i1",
        "outputId": "dcb07cca-d9fb-4f20-886c-b620815b16ee"
      },
      "execution_count": 15,
      "outputs": [
        {
          "output_type": "stream",
          "name": "stdout",
          "text": [
            "enter a word: if\n",
            "if is a keyword\n"
          ]
        }
      ]
    },
    {
      "cell_type": "code",
      "source": [
        "#5. Create a list and tuple in Python, and demonstrate how attempting to change an element works differently for each\n",
        "my_list = [1, 2, 3, 4, 5]\n",
        "print(\"Original list:\", my_list)\n",
        "my_list[2] = 10\n",
        "print(\"Modified list:\", my_list)\n",
        "\n",
        "my_tuple = (1, 2, 3, 4, 5)\n",
        "print(\"Original tuple:\", my_tuple)\n",
        "try:\n",
        "    my_tuple[2] = 10\n",
        "except TypeError as e:\n",
        "    print(\"Error:\", e)"
      ],
      "metadata": {
        "colab": {
          "base_uri": "https://localhost:8080/"
        },
        "id": "jlKyqrRSWVj0",
        "outputId": "f42acf7f-375b-4519-d440-1b346c4ea71b"
      },
      "execution_count": 16,
      "outputs": [
        {
          "output_type": "stream",
          "name": "stdout",
          "text": [
            "Original list: [1, 2, 3, 4, 5]\n",
            "Modified list: [1, 2, 10, 4, 5]\n",
            "Original tuple: (1, 2, 3, 4, 5)\n",
            "Error: 'tuple' object does not support item assignment\n"
          ]
        }
      ]
    },
    {
      "cell_type": "code",
      "source": [
        "# 6. Write a function to demonstrate the behavior of mutable and immutable arguments.\n",
        "def mutability_demo(mutable_arg, immutable_arg):\n",
        "    print(\"Before modification:\")\n",
        "    print(\"Mutable argument (list):\", mutable_arg)\n",
        "    print(\"Immutable argument (integer):\", immutable_arg)\n",
        "\n",
        "    mutable_arg.append(4)\n",
        "    immutable_arg += 1\n",
        "\n",
        "    print(\"After modification:\")\n",
        "    print(\"Mutable argument (list):\", mutable_arg)\n",
        "    print(\"Immutable argument (integer):\", immutable_arg)\n",
        "\n",
        "my_list = [1, 2, 3]\n",
        "my_integer = 5\n",
        "mutability_demo(my_list, my_integer)"
      ],
      "metadata": {
        "colab": {
          "base_uri": "https://localhost:8080/"
        },
        "id": "mWBs-_sHXDHc",
        "outputId": "733cc3a4-7eab-40ff-969c-afdf494d7450"
      },
      "execution_count": 19,
      "outputs": [
        {
          "output_type": "stream",
          "name": "stdout",
          "text": [
            "Before modification:\n",
            "Mutable argument (list): [1, 2, 3]\n",
            "Immutable argument (integer): 5\n",
            "After modification:\n",
            "Mutable argument (list): [1, 2, 3, 4]\n",
            "Immutable argument (integer): 6\n"
          ]
        }
      ]
    },
    {
      "cell_type": "code",
      "source": [
        "# 7. Write a program that performs basic arithmetic operations on two user-input numbers.\n",
        "\n",
        "num1 = float(input(\"Enter the first number: \"))\n",
        "num2 = float(input(\"Enter the second number: \"))\n",
        "\n",
        "# Perform arithmetic operations\n",
        "addition = num1 + num2\n",
        "subtraction = num1 - num2\n",
        "multiplication = num1 * num2\n",
        "division = num1 / num2 if num2 != 0 else \"Cannot divide by zero\"\n",
        "\n",
        "# Display the results\n",
        "print(\"Addition:\", addition)\n",
        "print(\"Subtraction:\", subtraction)\n",
        "print(\"Multiplication:\", multiplication)\n",
        "print(\"Division:\", division)"
      ],
      "metadata": {
        "colab": {
          "base_uri": "https://localhost:8080/"
        },
        "id": "WdfoS1ECYOOs",
        "outputId": "3fa140eb-2d3b-466f-df86-3475b68fa2cc"
      },
      "execution_count": 22,
      "outputs": [
        {
          "output_type": "stream",
          "name": "stdout",
          "text": [
            "Enter the first number: 4.0\n",
            "Enter the second number: 3.4\n",
            "Addition: 7.4\n",
            "Subtraction: 0.6000000000000001\n",
            "Multiplication: 13.6\n",
            "Division: 1.1764705882352942\n"
          ]
        }
      ]
    },
    {
      "cell_type": "code",
      "source": [
        "# 8. Write a program to demonstrate the use of logical operators.\n",
        "\n",
        "x = int(input(\"Enter a number: \"))\n",
        "y = int(input(\"Enter another number: \"))\n",
        "\n",
        "# Demonstrating logical operators with user input\n",
        "if x > 0 and y > 0:\n",
        "    print(\"Both numbers are positive.\")\n",
        "elif x > 0 or y > 0:\n",
        "    print(\"At least one number is positive.\")\n",
        "else:\n",
        "    print(\"Neither number is positive.\")"
      ],
      "metadata": {
        "colab": {
          "base_uri": "https://localhost:8080/"
        },
        "id": "x0UWQX1sYyhn",
        "outputId": "201b56ff-c36c-4c65-d394-d16ba8c39a50"
      },
      "execution_count": 23,
      "outputs": [
        {
          "output_type": "stream",
          "name": "stdout",
          "text": [
            "Enter a number: 5\n",
            "Enter another number: 8\n",
            "Both numbers are positive.\n"
          ]
        }
      ]
    },
    {
      "cell_type": "code",
      "source": [
        "# 9. Write a Python program to convert user input from string to integer, float, and boolean types.\n",
        "a=input(\"enter a number: \")\n",
        "print(\"the integer type is: \",int(a))\n",
        "print(\"the float type i: \",float(a))\n",
        "print(\"the boolean type is: \",bool(a))"
      ],
      "metadata": {
        "colab": {
          "base_uri": "https://localhost:8080/"
        },
        "id": "91mxKMdTZW2A",
        "outputId": "3561d6f5-e95a-412c-8b28-407ba1a44433"
      },
      "execution_count": 24,
      "outputs": [
        {
          "output_type": "stream",
          "name": "stdout",
          "text": [
            "enter a number: 5\n",
            "the integer type is:  5\n",
            "the float type i:  5.0\n",
            "the boolean type is:  True\n"
          ]
        }
      ]
    },
    {
      "cell_type": "code",
      "source": [
        "# 10. Write code to demonstrate type casting with list elements.\n",
        "a = input(\"Enter numbers separated by spaces: \")\n",
        "list_of_strings = a.split()\n",
        "\n",
        "list_of_integers = [int(x) for x in list_of_strings]\n",
        "list_of_floats = [float(x) for x in list_of_strings]\n",
        "list_of_booleans = [bool(x) for x in list_of_strings]\n",
        "\n",
        "print(\"Original list of strings:\", list_of_strings)\n",
        "print(\"List of integers:\", list_of_integers)\n",
        "print(\"List of floats:\", list_of_floats)\n",
        "print(\"List of booleans:\", list_of_booleans)"
      ],
      "metadata": {
        "colab": {
          "base_uri": "https://localhost:8080/"
        },
        "id": "F2HFOYYqaJIH",
        "outputId": "8ca87f06-2148-4370-e03f-fe7f19e1e34d"
      },
      "execution_count": 26,
      "outputs": [
        {
          "output_type": "stream",
          "name": "stdout",
          "text": [
            "Enter numbers separated by spaces: 1 2 3 4 5 6\n",
            "Original list of strings: ['1', '2', '3', '4', '5', '6']\n",
            "List of integers: [1, 2, 3, 4, 5, 6]\n",
            "List of floats: [1.0, 2.0, 3.0, 4.0, 5.0, 6.0]\n",
            "List of booleans: [True, True, True, True, True, True]\n"
          ]
        }
      ]
    },
    {
      "cell_type": "code",
      "source": [
        "# 11. Write a program that checks if a number is positive, negative, or zero.\n",
        "a=int(input(\"enter a number: \"))\n",
        "if a>0:\n",
        "  print(a,\"is positive\")\n",
        "elif a<0:\n",
        "  print(a,\"is negative\")\n",
        "else:\n",
        "  print(a,\"is zero\")"
      ],
      "metadata": {
        "colab": {
          "base_uri": "https://localhost:8080/"
        },
        "id": "k60qUBIwbOq5",
        "outputId": "c973abbc-56a9-47ec-95b4-f860a9a0870f"
      },
      "execution_count": 27,
      "outputs": [
        {
          "output_type": "stream",
          "name": "stdout",
          "text": [
            "enter a number: 55\n",
            "55 is positive\n"
          ]
        }
      ]
    },
    {
      "cell_type": "code",
      "source": [
        "# 12. Write a for loop to print numbers from 1 to 10.\n",
        "for i in range(1, 11):\n",
        "    print(i)"
      ],
      "metadata": {
        "colab": {
          "base_uri": "https://localhost:8080/"
        },
        "id": "E9m88ldTbUIi",
        "outputId": "9da1f449-ad64-4d38-b446-ca8a9bbe6ed8"
      },
      "execution_count": 29,
      "outputs": [
        {
          "output_type": "stream",
          "name": "stdout",
          "text": [
            "1\n",
            "2\n",
            "3\n",
            "4\n",
            "5\n",
            "6\n",
            "7\n",
            "8\n",
            "9\n",
            "10\n"
          ]
        }
      ]
    },
    {
      "cell_type": "code",
      "source": [
        "# 13. Write a Python program to find the sum of all even numbers between 1 and 50.\n",
        "sum_of_evens = 0\n",
        "for num in range(1, 51):\n",
        "    if num % 2 == 0:\n",
        "        sum_of_evens += num\n",
        "print(\"sum of all even numbers between 1 and 50 is: \",sum_of_evens)"
      ],
      "metadata": {
        "colab": {
          "base_uri": "https://localhost:8080/"
        },
        "id": "PX2ScJWxbfXB",
        "outputId": "cf85e93a-21ab-45cc-8aeb-d7c92bbbc78e"
      },
      "execution_count": 33,
      "outputs": [
        {
          "output_type": "stream",
          "name": "stdout",
          "text": [
            "sum of all even numbers between 1 and 50 is:  650\n"
          ]
        }
      ]
    },
    {
      "cell_type": "code",
      "source": [
        "# 14. Write a program to reverse a string using a while loop.\n",
        "string = input(\"Enter a string: \")\n",
        "reversed_string = \"\"\n",
        "index = len(string) - 1\n",
        "while index >= 0:\n",
        "    reversed_string += string[index]\n",
        "    index -= 1\n",
        "print(\"Reversed string:\", reversed_string)"
      ],
      "metadata": {
        "colab": {
          "base_uri": "https://localhost:8080/"
        },
        "id": "GzyKB4Lqb52I",
        "outputId": "0e2d1cef-3fdf-431c-e997-a8b7c823a5b6"
      },
      "execution_count": 34,
      "outputs": [
        {
          "output_type": "stream",
          "name": "stdout",
          "text": [
            "Enter a string: priya\n",
            "Reversed string: ayirp\n"
          ]
        }
      ]
    },
    {
      "cell_type": "code",
      "source": [
        "#15. Write a Python program to calculate the factorial of a number provided by the user using a while loop.\n",
        "num = int(input(\"Enter a number: \"))\n",
        "factorial = 1\n",
        "count = 1\n",
        "\n",
        "while count <= num:\n",
        "    factorial *= count\n",
        "    count += 1\n",
        "\n",
        "print(\"The factorial of\", num, \"is:\", factorial)"
      ],
      "metadata": {
        "colab": {
          "base_uri": "https://localhost:8080/"
        },
        "id": "79qP752RcVan",
        "outputId": "18ac4901-afb0-4dce-a817-320a7f949621"
      },
      "execution_count": 35,
      "outputs": [
        {
          "output_type": "stream",
          "name": "stdout",
          "text": [
            "Enter a number: 5\n",
            "The factorial of 5 is: 120\n"
          ]
        }
      ]
    }
  ]
}